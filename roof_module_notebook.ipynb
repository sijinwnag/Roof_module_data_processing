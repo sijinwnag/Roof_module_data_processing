{
 "cells": [
  {
   "cell_type": "markdown",
   "id": "e81aca90",
   "metadata": {},
   "source": [
    "# Roof top module data processor"
   ]
  },
  {
   "cell_type": "markdown",
   "id": "e330dc83",
   "metadata": {},
   "source": [
    "## 1. Import the packages"
   ]
  },
  {
   "cell_type": "code",
   "execution_count": 1,
   "id": "811c67f6",
   "metadata": {},
   "outputs": [],
   "source": [
    "import pyodbc\n",
    "from sqlalchemy import create_engine\n",
    "import csv\n",
    "from data_processor_object import *\n",
    "import matplotlib.pyplot as plt\n",
    "import os\n",
    "import glob"
   ]
  },
  {
   "cell_type": "markdown",
   "id": "3918bc2f",
   "metadata": {},
   "source": [
    "## 2. Input"
   ]
  },
  {
   "cell_type": "markdown",
   "id": "7f0a45dd",
   "metadata": {},
   "source": [
    "### 2.1. Input parameter desciptions"
   ]
  },
  {
   "attachments": {},
   "cell_type": "markdown",
   "id": "ace19784",
   "metadata": {},
   "source": [
    "| Parameter Name | Format | Description | Example |\n",
    "| --- | --- | --- | --- |\n",
    "| path | string | a path of the folder the access file for module IV data is stored | r'C:\\Users\\sijin wang\\Desktop\\research\\RA\\Module_data_project\\data'|\n",
    "| starting_day | string | the first day to start plotting | '2022_1_2' |\n",
    "| ending_day | string | the last day to plot | '2022_12_31' |\n",
    "| starting_time | string | the time in the first day to start plotting | '8:00:00 AM' |\n",
    "| ending_time | string | the time in the last day to plot | '9:00:00 PM' |\n",
    "| module_number_list | integer list | a list of module to investigate, ranging from 1 to 6 | [1, 3, 6] |\n",
    "| sample_length | string | the period for resampling | 'hour', 'day', 'month' (other input won't make it resample)|\n",
    "| percentile | integer | select the top percnetile of the electrical data | 90 |\n",
    "| T_cetral | float | the central temperature value to select, unit is C | 45 |\n",
    "| dT | float | the selected data should be with the range of T_central $\\pm$ dT| 5 |\n",
    "| Ir_central | float | the central irradiance value to select, unit is W/m2 | 800 |\n",
    "| dIr | float | the selected data should be with the range of Ir_central $\\pm$ dIr| 50 |\n"
   ]
  },
  {
   "attachments": {},
   "cell_type": "markdown",
   "id": "b73ea13b",
   "metadata": {},
   "source": [
    "### 2.2 Input cell"
   ]
  },
  {
   "cell_type": "code",
   "execution_count": 2,
   "id": "b205edae",
   "metadata": {},
   "outputs": [],
   "source": [
    "# path to read\n",
    "# path = r'C:\\Users\\sijin wang\\Desktop\\research\\RA\\Module_data_project\\data'\n",
    "path = r'C:\\Users\\sijin wang\\OneDrive - UNSW\\RA\\Roof_module_data'\n",
    "\n",
    "# plotting time\n",
    "starting_day = '2022_1_1'\n",
    "ending_day = '2022_3_9'\n",
    "starting_time = '8:00:00 AM'\n",
    "ending_time = '9:00:00 PM'\n",
    "\n",
    "# define the resampling parameters\n",
    "sample_length = 'hour'\n",
    "percentile = 90\n",
    "\n",
    "# define the data selection parameters\n",
    "# for temperatures:\n",
    "T_central=45\n",
    "dT = 50\n",
    "# for irradiance:\n",
    "Ir_central = 800\n",
    "dIr = 50"
   ]
  },
  {
   "attachments": {},
   "cell_type": "markdown",
   "id": "fd9a1a91",
   "metadata": {},
   "source": [
    "## 3.Data Processing"
   ]
  },
  {
   "attachments": {},
   "cell_type": "markdown",
   "id": "0ef1bc5e",
   "metadata": {},
   "source": [
    "What the following cell does:\n",
    "* Count the days we need to include for data analysis.\n",
    "* Extract the selected days from access file to pd Dataframe.\n",
    "* After successfully extract the data for each days, the processed date will be printed."
   ]
  },
  {
   "cell_type": "code",
   "execution_count": 3,
   "id": "4967d225",
   "metadata": {},
   "outputs": [],
   "source": [
    "# create a list of paths of each access file we need to open\n",
    "paths = []\n",
    "# Loop through all the files in the folder and add their paths to the list\n",
    "for file_name in os.listdir(path):\n",
    "    if os.path.isfile(os.path.join(path, file_name)):\n",
    "        paths.append(str((os.path.join(path, file_name))))\n",
    "\n",
    "# define the object\n",
    "data1 = module_data_processor(path = paths, starting_day=starting_day, ending_day=ending_day, starting_time=starting_time, ending_time=ending_time)\n",
    "\n",
    "# create a list of list for all dates to select paths.\n",
    "data1.file_date_reader()\n"
   ]
  },
  {
   "attachments": {},
   "cell_type": "markdown",
   "id": "95e392a4",
   "metadata": {},
   "source": [
    "Extract the data from all the access files"
   ]
  },
  {
   "cell_type": "code",
   "execution_count": 4,
   "id": "358fe6a0",
   "metadata": {},
   "outputs": [
    {
     "name": "stdout",
     "output_type": "stream",
     "text": [
      "2022_1_1IV\n",
      "2022_1_2IV\n",
      "2022_1_3IV\n",
      "2022_1_25IV\n",
      "2022_1_26IV\n",
      "2022_1_27IV\n",
      "2022_1_28IV\n",
      "2022_1_29IV\n",
      "2022_1_30IV\n",
      "2022_1_31IV\n",
      "2022_2_1IV\n",
      "2022_2_2IV\n",
      "2022_2_3IV\n",
      "2022_2_4IV\n",
      "2022_2_5IV\n",
      "2022_2_6IV\n",
      "2022_2_7IV\n",
      "2022_2_8IV\n",
      "2022_2_9IV\n",
      "2022_2_10IV\n",
      "2022_2_11IV\n"
     ]
    }
   ],
   "source": [
    "# extract the data from the access files\n",
    "data1.data_extractor(removezero=True, store_df=True)"
   ]
  },
  {
   "attachments": {},
   "cell_type": "markdown",
   "id": "b82b626f",
   "metadata": {},
   "source": [
    "Access the stored pickle file if the data was extracted before"
   ]
  },
  {
   "cell_type": "code",
   "execution_count": null,
   "id": "fcbcb964",
   "metadata": {},
   "outputs": [
    {
     "name": "stdout",
     "output_type": "stream",
     "text": [
      "Successfully found the pickle file, The pickle file name is: 2022_1_12022_3_9.pkl\n"
     ]
    }
   ],
   "source": [
    "# load the saved pd dataframe file\n",
    "data1.pickle_extractor()"
   ]
  },
  {
   "attachments": {},
   "cell_type": "markdown",
   "id": "c5d6aca6",
   "metadata": {},
   "source": [
    "## 4. Visualization"
   ]
  },
  {
   "attachments": {},
   "cell_type": "markdown",
   "id": "2fbe3993",
   "metadata": {},
   "source": [
    "### 4.1. The module comparison"
   ]
  },
  {
   "attachments": {},
   "cell_type": "markdown",
   "id": "cd947e0b",
   "metadata": {},
   "source": [
    "#### 4.1.0. Select the module"
   ]
  },
  {
   "cell_type": "code",
   "execution_count": null,
   "id": "4c436489",
   "metadata": {},
   "outputs": [],
   "source": [
    "module_number_list = [1, 6]"
   ]
  },
  {
   "attachments": {},
   "cell_type": "markdown",
   "id": "4fb3692f",
   "metadata": {},
   "source": [
    "What the following cell does:\n",
    "* Select the data based on which module to plot.\n",
    "* Resample the data based on the defined sample length, and select the top xx percentile.\n",
    "* select the data to restrict the temperature and irradiance range, temperature only include T_central $\\pm$ dT and irradiance only include Ir_central $\\pm$ dIr."
   ]
  },
  {
   "cell_type": "code",
   "execution_count": null,
   "id": "6a72141f",
   "metadata": {},
   "outputs": [
    {
     "name": "stderr",
     "output_type": "stream",
     "text": [
      "c:\\Users\\sijin wang\\AppData\\Local\\Programs\\Python\\Python38\\lib\\site-packages\\pandas\\core\\apply.py:577: FutureWarning: Dropping invalid columns in DataFrameGroupBy.quantile is deprecated. In a future version, a TypeError will be raised. Before calling .quantile, select only columns which should be valid for the function.\n",
      "  return f(*args, **kwargs)\n"
     ]
    }
   ],
   "source": [
    "# select the module to plot: range from 1 to 6\n",
    "data1.module_selector(module_num_list=module_number_list)\n",
    "\n",
    "# resample the module: options are 'hour', 'day', 'month', put anything else it will not resample.\n",
    "data1.multi_module_resampler(sample_length=sample_length, quantile_v=percentile/100)\n",
    "# print(data1.module_df_sampled)\n",
    "\n",
    "# Select Temperature and Irradiance range\n",
    "data1.bin_selector(param_name='MT', centre_value=T_central, rangevalue=dT)\n",
    "data1.bin_selector(param_name='IR_BEV', centre_value=Ir_central, rangevalue=dIr)\n",
    "# print(data1.module_df_sampled)"
   ]
  },
  {
   "attachments": {},
   "cell_type": "markdown",
   "id": "8a62ce0f",
   "metadata": {},
   "source": [
    "Please select the parameters to plot against."
   ]
  },
  {
   "attachments": {},
   "cell_type": "markdown",
   "id": "5b2ad409",
   "metadata": {},
   "source": [
    "The available option for parameters are: 'Absolute humidity %', 'Ambient temperature (C)', 'Modulte temperature (C)', 'Irradiance (W/m2)', 'Voc(V)', 'Isc(A)', 'Maximum power voltage (V)', 'Maximum power current (A)', 'Maximum power (W)', 'Fill factor (%)', 'Efficiency (%)'."
   ]
  },
  {
   "attachments": {},
   "cell_type": "markdown",
   "id": "a0ab65bf",
   "metadata": {},
   "source": [
    "#### 4.1.1. Plotting"
   ]
  },
  {
   "cell_type": "code",
   "execution_count": null,
   "id": "f2ec03b2",
   "metadata": {},
   "outputs": [
    {
     "data": {
      "image/png": "[encoded data removed]",
      "text/plain": [
       "<Figure size 432x288 with 1 Axes>"
      ]
     },
     "metadata": {
      "needs_background": "light"
     },
     "output_type": "display_data"
    }
   ],
   "source": [
    "available_list = ['Absolute humidity %', 'Ambient temperature (C)', 'Modulte temperature (C)', 'Irradiance (W/m2)', 'Voc(V)', 'Isc(A)', 'Maximum power voltage (V)', 'Maximum power current (A)', 'Maximum power (W)', 'Fill factor (%)', 'Efficiency (%)']\n",
    "# y_name = input('Please select a parameter to compare on: ')\n",
    "y_name = 'Voc(V)'\n",
    "if y_name in available_list:\n",
    "    # whether_interpolate = input('Do you want the data to be interpolated based on sampling period? (YES or NO)')\n",
    "    whether_interpolate = 'YES'\n",
    "    if whether_interpolate == 'YES':\n",
    "        data1.data_ploter_with_time_multimodule(target_name=data1.param_name_dict[str(y_name)], interpol=True)\n",
    "    else:\n",
    "        data1.data_ploter_with_time_multimodule(target_name=data1.param_name_dict[str(y_name)])\n",
    "else:\n",
    "    print('Please select a parameter name from the available list')"
   ]
  },
  {
   "attachments": {},
   "cell_type": "markdown",
   "id": "9d5e6573",
   "metadata": {},
   "source": [
    "### 4.2. Plot parameter vs parameter for one module"
   ]
  },
  {
   "attachments": {},
   "cell_type": "markdown",
   "id": "579b8335",
   "metadata": {},
   "source": [
    "#### 4.2.0. Select the module (select one module only)"
   ]
  },
  {
   "cell_type": "code",
   "execution_count": null,
   "id": "d83956e0",
   "metadata": {},
   "outputs": [],
   "source": [
    "module_number_list = [6]"
   ]
  },
  {
   "attachments": {},
   "cell_type": "markdown",
   "id": "a24611a3",
   "metadata": {},
   "source": [
    "What the following cell does:\n",
    "* Select the data based on which module to plot.\n",
    "* Resample the data based on the defined sample length, and select the top xx percentile.\n",
    "* select the data to restrict the temperature and irradiance range, temperature only include T_central $\\pm$ dT and irradiance only include Ir_central $\\pm$ dIr."
   ]
  },
  {
   "cell_type": "code",
   "execution_count": null,
   "id": "c9a9c53f",
   "metadata": {},
   "outputs": [
    {
     "name": "stderr",
     "output_type": "stream",
     "text": [
      "c:\\Users\\sijin wang\\AppData\\Local\\Programs\\Python\\Python38\\lib\\site-packages\\pandas\\core\\apply.py:577: FutureWarning: Dropping invalid columns in DataFrameGroupBy.quantile is deprecated. In a future version, a TypeError will be raised. Before calling .quantile, select only columns which should be valid for the function.\n",
      "  return f(*args, **kwargs)\n"
     ]
    }
   ],
   "source": [
    "# select the module to plot: range from 1 to 6\n",
    "data1.module_selector(module_num_list=module_number_list)\n",
    "\n",
    "# resample the module: options are 'hour', 'day', 'month', put anything else it will not resample.\n",
    "data1.multi_module_resampler(sample_length=sample_length, quantile_v=percentile/100)\n",
    "\n",
    "# Select Temperature and Irradiance range\n",
    "data1.bin_selector(param_name='MT', centre_value=T_central, rangevalue=dT)\n",
    "data1.bin_selector(param_name='IR_BEV', centre_value=Ir_central, rangevalue=dIr)"
   ]
  },
  {
   "attachments": {},
   "cell_type": "markdown",
   "id": "186e0a8d",
   "metadata": {},
   "source": [
    "### 4.2.1. Plotting against each other"
   ]
  },
  {
   "attachments": {},
   "cell_type": "markdown",
   "id": "398e8c81",
   "metadata": {},
   "source": [
    "Please select the parameters to plot against."
   ]
  },
  {
   "attachments": {},
   "cell_type": "markdown",
   "id": "6399dba8",
   "metadata": {},
   "source": [
    "The available option for parameters are: 'Absolute humidity %', 'Ambient temperature (C)', 'Module temperature (C)', 'Irradiance (W/m2)', 'Voc(V)', 'Isc(A)', 'Maximum power voltage (V)', 'Maximum power current (A)', 'Maximum power (W)', 'Fill factor (%)', 'Efficiency (%)'."
   ]
  },
  {
   "cell_type": "code",
   "execution_count": null,
   "id": "6afd4163",
   "metadata": {},
   "outputs": [
    {
     "data": {
      "image/png": "[encoded data removed]",
      "text/plain": [
       "<Figure size 432x288 with 2 Axes>"
      ]
     },
     "metadata": {
      "needs_background": "light"
     },
     "output_type": "display_data"
    }
   ],
   "source": [
    "available_list = ['Absolute humidity %', 'Ambient temperature (C)', 'Module temperature (C)', 'Irradiance (W/m2)', 'Voc(V)', 'Isc(A)', 'Maximum power voltage (V)', 'Maximum power current (A)', 'Maximum power (W)', 'Fill factor (%)', 'Efficiency (%)']\n",
    "# x_name = input('Which parameter to put in x axis (choose from the available options)')\n",
    "# y_name = input('Which parameter to put in y axis (choose from the available options)')\n",
    "x_name = 'Module temperature (C)'\n",
    "y_name = 'Voc(V)'\n",
    "# print(x_name)\n",
    "if x_name in available_list and y_name in available_list:\n",
    "    # whether_color_code = input('Do you want a color code 3rd dimension? (YES or NO)')\n",
    "    whether_color_code = 'YES'\n",
    "    if whether_color_code == 'NO':\n",
    "        data1.data_parameter_plot_multimodule(x_name=data1.param_name_dict[str(x_name)], y_name=data1.param_name_dict[str(y_name)], linear_fit=True, color_code=False)\n",
    "    else:\n",
    "        # color_code_name = input('Which parameter to color code (choose from the available options)')\n",
    "        color_code_name = 'Irradiance (W/m2)'\n",
    "        if color_code_name in available_list:\n",
    "            data1.data_parameter_plot_multimodule(x_name=data1.param_name_dict[str(x_name)], y_name=data1.param_name_dict[str(y_name)], linear_fit=True, color_code=True, color_name=data1.param_name_dict[str(color_code_name)], module_title=True)\n",
    "        else:\n",
    "            print('Please select the color code parameter name from the available list')\n",
    "else:\n",
    "    print('Please choose both x and y names from the availabe list')"
   ]
  },
  {
   "attachments": {},
   "cell_type": "markdown",
   "id": "30499390",
   "metadata": {},
   "source": [
    "### 4.3. Plotting degredation"
   ]
  },
  {
   "attachments": {},
   "cell_type": "markdown",
   "id": "d889ae2a",
   "metadata": {},
   "source": [
    "#### 4.3.0. Select the module (select one module only)"
   ]
  },
  {
   "cell_type": "code",
   "execution_count": null,
   "id": "6b1f37bd",
   "metadata": {},
   "outputs": [],
   "source": [
    "module_number_list = [1]"
   ]
  },
  {
   "attachments": {},
   "cell_type": "markdown",
   "id": "ab22621d",
   "metadata": {},
   "source": [
    "What the following cell does:\n",
    "* Select the data based on which module to plot.\n",
    "* Resample the data based on the defined sample length, and select the top xx percentile.\n",
    "* select the data to restrict the temperature and irradiance range, temperature only include T_central $\\pm$ dT and irradiance only include Ir_central $\\pm$ dIr."
   ]
  },
  {
   "cell_type": "code",
   "execution_count": null,
   "id": "ad663505",
   "metadata": {},
   "outputs": [
    {
     "name": "stderr",
     "output_type": "stream",
     "text": [
      "c:\\Users\\sijin wang\\AppData\\Local\\Programs\\Python\\Python38\\lib\\site-packages\\pandas\\core\\apply.py:577: FutureWarning: Dropping invalid columns in DataFrameGroupBy.quantile is deprecated. In a future version, a TypeError will be raised. Before calling .quantile, select only columns which should be valid for the function.\n",
      "  return f(*args, **kwargs)\n"
     ]
    }
   ],
   "source": [
    "# select the module to plot: range from 1 to 6\n",
    "data1.module_selector(module_num_list=module_number_list)\n",
    "\n",
    "# resample the module: options are 'hour', 'day', 'month', put anything else it will not resample.\n",
    "data1.multi_module_resampler(sample_length=sample_length, quantile_v=percentile/100)\n",
    "\n",
    "# Select Temperature and Irradiance range\n",
    "data1.bin_selector(param_name='MT', centre_value=T_central, rangevalue=dT)\n",
    "data1.bin_selector(param_name='IR_BEV', centre_value=Ir_central, rangevalue=dIr)"
   ]
  },
  {
   "attachments": {},
   "cell_type": "markdown",
   "id": "dd4db8e5",
   "metadata": {},
   "source": [
    "#### 4.3.1. Plotting"
   ]
  },
  {
   "attachments": {},
   "cell_type": "markdown",
   "id": "423b7bf1",
   "metadata": {},
   "source": [
    "Please select the parameter to view degredation."
   ]
  },
  {
   "attachments": {},
   "cell_type": "markdown",
   "id": "9a09be8e",
   "metadata": {},
   "source": [
    "The available option for parameters are: 'Absolute humidity %', 'Ambient temperature (C)', 'Modulte temperature (C)', 'Irradiance (W/m2)', 'Voc(V)', 'Isc(A)', 'Maximum power voltage (V)', 'Maximum power current (A)', 'Maximum power (W)', 'Fill factor (%)', 'Efficiency (%)'."
   ]
  },
  {
   "cell_type": "code",
   "execution_count": null,
   "id": "87004cab",
   "metadata": {},
   "outputs": [
    {
     "data": {
      "image/png": "[encoded data removed]",
      "text/plain": [
       "<Figure size 432x288 with 2 Axes>"
      ]
     },
     "metadata": {
      "needs_background": "light"
     },
     "output_type": "display_data"
    }
   ],
   "source": [
    "# param_name = input('Which parameter to put in y axis (choose from the available options)')\n",
    "param_name = 'Efficiency (%)'\n",
    "# print(x_name)\n",
    "if param_name in available_list:\n",
    "    # whether_color_code = input('Do you want a color code 3rd dimension? (YES or NO)')\n",
    "    whether_color_code = 'YES'\n",
    "    if whether_color_code == 'NO':\n",
    "        data1.data_ploter_with_time_multimodule(target_name=data1.param_name_dict[str(x_name)])\n",
    "    else:\n",
    "        # color_code_name = input('Which parameter to color code (choose from the available options)')\n",
    "        color_code_name = 'Irradiance (W/m2)'\n",
    "        if color_code_name in available_list:\n",
    "            data1.data_ploter_with_time_multimodule(target_name=data1.param_name_dict[str(x_name)], linear_fit=True, color_code=True, color_name=data1.param_name_dict[str(color_code_name)])\n",
    "        else:\n",
    "            print('Please select the color code parameter name from the available list')\n",
    "else:\n",
    "    print('Please choose the parameter names from the availabe list')"
   ]
  }
 ],
 "metadata": {
  "kernelspec": {
   "display_name": "Python 3",
   "language": "python",
   "name": "python3"
  },
  "language_info": {
   "codemirror_mode": {
    "name": "ipython",
    "version": 3
   },
   "file_extension": ".py",
   "mimetype": "text/x-python",
   "name": "python",
   "nbconvert_exporter": "python",
   "pygments_lexer": "ipython3",
   "version": "3.8.10"
  },
  "vscode": {
   "interpreter": {
    "hash": "d334cf903bbc67ff1a471b83213383e8071bf57c25eaa7145c5ba6cf13fc69dc"
   }
  }
 },
 "nbformat": 4,
 "nbformat_minor": 5
}
