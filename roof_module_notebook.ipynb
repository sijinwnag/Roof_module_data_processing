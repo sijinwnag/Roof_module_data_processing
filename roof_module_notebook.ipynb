{
 "cells": [
  {
   "cell_type": "markdown",
   "id": "e81aca90",
   "metadata": {},
   "source": [
    "# Roof top module data processor"
   ]
  },
  {
   "cell_type": "markdown",
   "id": "e330dc83",
   "metadata": {},
   "source": [
    "## 1. Import the packages"
   ]
  },
  {
   "cell_type": "code",
   "execution_count": 1,
   "id": "811c67f6",
   "metadata": {},
   "outputs": [],
   "source": [
    "import pyodbc\n",
    "from sqlalchemy import create_engine\n",
    "import csv\n",
    "from data_processor_object import *\n",
    "import matplotlib.pyplot as plt\n",
    "import os\n",
    "import glob"
   ]
  },
  {
   "cell_type": "markdown",
   "id": "3918bc2f",
   "metadata": {},
   "source": [
    "## 2. Input"
   ]
  },
  {
   "cell_type": "markdown",
   "id": "7f0a45dd",
   "metadata": {},
   "source": [
    "### 2.1. Input parameter desciptions"
   ]
  },
  {
   "attachments": {},
   "cell_type": "markdown",
   "id": "ace19784",
   "metadata": {},
   "source": [
    "| Parameter Name | Format | Description | Example |\n",
    "| --- | --- | --- | --- |\n",
    "| path | string | a path of the folder the access file for module IV data is stored | r'C:\\Users\\sijin wang\\Desktop\\research\\RA\\Module_data_project\\data'|\n",
    "| starting_day | string | the first day to start plotting | '2022_1_2' |\n",
    "| ending_day | string | the last day to plot | '2022_12_31' |\n",
    "| starting_time | string | the time in the first day to start plotting | '8:00:00 AM' |\n",
    "| ending_time | string | the time in the last day to plot | '9:00:00 PM' |\n",
    "| module_number_list | string | a list of module to investigate, ranging from 1 to 6 | [1, 3, 6] |\n",
    "| sample_length | string | the period for resampling | 'hour', 'day', 'month' (other input won't make it resample)|\n",
    "| percentile | integer | select the top percnetile of the electrical data | 90 |\n",
    "| T_cetral | float | the central temperature value to select, unit is C | 45 |\n",
    "| dT | float | the selected data should be with the range of T_central $\\pm$ dT| 5 |\n",
    "| Ir_central | float | the central irradiance value to select, unit is W/m2 | 800 |\n",
    "| dIr | float | the selected data should be with the range of Ir_central $\\pm$ dIr| 50 |\n"
   ]
  },
  {
   "attachments": {},
   "cell_type": "markdown",
   "id": "b73ea13b",
   "metadata": {},
   "source": [
    "### 2.2 Input cell"
   ]
  },
  {
   "cell_type": "code",
   "execution_count": 2,
   "id": "b205edae",
   "metadata": {},
   "outputs": [],
   "source": [
    "# path to read\n",
    "# path = r'C:\\Users\\sijin wang\\Desktop\\research\\RA\\Module_data_project\\data'\n",
    "path = r'C:\\Users\\sijin wang\\OneDrive - UNSW\\RA\\Roof_module_data'\n",
    "\n",
    "# plotting time\n",
    "starting_day = '2022_1_1'\n",
    "ending_day = '2022_12_31'\n",
    "starting_time = '8:00:00 AM'\n",
    "ending_time = '9:00:00 PM'\n",
    "\n",
    "# define the resampling parameters\n",
    "sample_length = 'hour'\n",
    "percentile = 90\n",
    "\n",
    "# define the data selection parameters\n",
    "# for temperatures:\n",
    "T_central=45\n",
    "dT = 5\n",
    "# for irradiance:\n",
    "Ir_central = 800\n",
    "dIr = 50"
   ]
  },
  {
   "attachments": {},
   "cell_type": "markdown",
   "id": "fd9a1a91",
   "metadata": {},
   "source": [
    "## 3.Data Processing"
   ]
  },
  {
   "attachments": {},
   "cell_type": "markdown",
   "id": "0ef1bc5e",
   "metadata": {},
   "source": [
    "What the following cell does:\n",
    "* Count the days we need to include for data analysis.\n",
    "* Extract the selected days from access file to pd Dataframe.\n",
    "* After successfully extract the data for each days, the processed date will be printed."
   ]
  },
  {
   "cell_type": "code",
   "execution_count": 3,
   "id": "4967d225",
   "metadata": {},
   "outputs": [
    {
     "name": "stdout",
     "output_type": "stream",
     "text": [
      "2022_1_1IV\n",
      "2022_1_2IV\n",
      "2022_1_3IV\n",
      "2022_1_25IV\n",
      "2022_1_26IV\n",
      "2022_1_27IV\n",
      "2022_1_28IV\n",
      "2022_1_29IV\n",
      "2022_1_30IV\n",
      "2022_1_31IV\n",
      "2022_2_1IV\n",
      "2022_2_2IV\n",
      "2022_2_3IV\n",
      "2022_2_4IV\n",
      "2022_2_5IV\n",
      "2022_2_6IV\n",
      "2022_2_7IV\n",
      "2022_2_8IV\n",
      "2022_2_9IV\n",
      "2022_2_10IV\n",
      "2022_2_11IV\n",
      "2022_2_12IV\n",
      "2022_2_13IV\n",
      "2022_2_14IV\n",
      "2022_2_25IV\n",
      "2022_2_26IV\n",
      "2022_2_28IV\n",
      "2022_3_1IV\n",
      "2022_3_2IV\n",
      "2022_3_3IV\n",
      "2022_3_4IV\n",
      "2022_3_5IV\n",
      "2022_3_6IV\n",
      "2022_3_7IV\n",
      "2022_3_8IV\n",
      "2022_3_9IV\n",
      "2022_3_10IV\n",
      "2022_3_11IV\n",
      "2022_3_12IV\n",
      "2022_3_13IV\n",
      "2022_3_14IV\n",
      "2022_3_15IV\n",
      "2022_3_16IV\n",
      "2022_3_17IV\n",
      "2022_3_18IV\n",
      "2022_3_19IV\n",
      "2022_3_20IV\n",
      "2022_3_21IV\n",
      "2022_3_22IV\n",
      "2022_3_23IV\n",
      "2022_3_24IV\n",
      "2022_3_25IV\n",
      "2022_3_26IV\n",
      "2022_3_27IV\n",
      "2022_3_28IV\n",
      "2022_3_29IV\n",
      "2022_3_30IV\n",
      "2022_3_31IV\n",
      "2022_4_1IV\n",
      "2022_4_2IV\n",
      "2022_4_3IV\n",
      "2022_4_4IV\n",
      "2022_4_5IV\n",
      "2022_4_6IV\n",
      "2022_4_7IV\n",
      "2022_4_8IV\n",
      "2022_4_9IV\n",
      "2022_4_10IV\n",
      "2022_4_11IV\n",
      "2022_4_12IV\n",
      "2022_4_13IV\n",
      "2022_4_14IV\n",
      "2022_4_15IV\n",
      "2022_4_16IV\n",
      "2022_4_17IV\n",
      "2022_4_18IV\n",
      "2022_4_19IV\n",
      "2022_4_20IV\n",
      "2022_4_21IV\n",
      "2022_4_22IV\n",
      "2022_4_23IV\n",
      "2022_4_24IV\n",
      "2022_4_25IV\n",
      "2022_4_26IV\n",
      "2022_4_27IV\n",
      "2022_4_28IV\n",
      "2022_4_29IV\n",
      "2022_4_30IV\n",
      "2022_5_1IV\n",
      "2022_5_2IV\n",
      "2022_5_3IV\n",
      "2022_5_4IV\n",
      "2022_5_5IV\n",
      "2022_5_6IV\n",
      "2022_5_7IV\n",
      "2022_5_8IV\n",
      "2022_5_9IV\n",
      "2022_5_10IV\n",
      "2022_5_11IV\n",
      "2022_5_12IV\n",
      "2022_5_13IV\n",
      "2022_5_14IV\n",
      "2022_5_15IV\n",
      "2022_5_16IV\n",
      "2022_5_17IV\n",
      "2022_5_18IV\n",
      "2022_5_19IV\n",
      "2022_5_20IV\n",
      "2022_5_21IV\n",
      "2022_5_22IV\n",
      "2022_5_23IV\n",
      "2022_5_24IV\n",
      "2022_5_25IV\n",
      "2022_5_26IV\n",
      "2022_5_27IV\n",
      "2022_5_28IV\n",
      "2022_5_29IV\n",
      "2022_5_30IV\n",
      "2022_5_31IV\n",
      "2022_6_1IV\n",
      "2022_6_2IV\n",
      "2022_6_3IV\n",
      "2022_6_4IV\n",
      "2022_6_5IV\n",
      "2022_6_6IV\n",
      "2022_6_7IV\n",
      "2022_6_8IV\n",
      "2022_6_9IV\n",
      "2022_6_10IV\n",
      "2022_6_11IV\n",
      "2022_6_12IV\n",
      "2022_6_13IV\n",
      "2022_6_14IV\n",
      "2022_6_15IV\n",
      "2022_6_16IV\n",
      "2022_6_17IV\n",
      "2022_6_18IV\n",
      "2022_6_19IV\n",
      "2022_6_20IV\n",
      "2022_6_21IV\n",
      "2022_6_22IV\n",
      "2022_6_23IV\n",
      "2022_6_24IV\n",
      "2022_6_25IV\n",
      "2022_6_26IV\n",
      "2022_6_27IV\n",
      "2022_6_28IV\n",
      "2022_6_29IV\n",
      "2022_6_30IV\n",
      "2022_7_1IV\n",
      "2022_7_2IV\n",
      "2022_7_3IV\n",
      "2022_7_4IV\n",
      "2022_7_5IV\n",
      "2022_7_6IV\n",
      "2022_7_7IV\n",
      "2022_7_8IV\n",
      "2022_7_9IV\n",
      "2022_7_10IV\n",
      "2022_7_11IV\n",
      "2022_7_12IV\n",
      "2022_7_13IV\n",
      "2022_7_14IV\n",
      "2022_7_15IV\n",
      "2022_7_16IV\n",
      "2022_7_17IV\n",
      "2022_7_18IV\n",
      "2022_7_19IV\n",
      "2022_7_20IV\n",
      "2022_7_21IV\n",
      "2022_7_22IV\n",
      "2022_7_23IV\n",
      "2022_7_24IV\n",
      "2022_7_25IV\n",
      "2022_7_26IV\n",
      "2022_7_27IV\n",
      "2022_7_28IV\n",
      "2022_7_29IV\n",
      "2022_7_30IV\n",
      "2022_7_31IV\n",
      "2022_8_1IV\n",
      "2022_8_2IV\n",
      "2022_8_3IV\n",
      "2022_8_4IV\n",
      "2022_8_5IV\n",
      "2022_8_6IV\n",
      "2022_8_7IV\n",
      "2022_8_8IV\n",
      "2022_8_9IV\n",
      "2022_8_10IV\n",
      "2022_8_11IV\n",
      "2022_8_12IV\n",
      "2022_8_13IV\n",
      "2022_8_14IV\n",
      "2022_8_15IV\n",
      "2022_8_16IV\n",
      "2022_8_17IV\n",
      "2022_8_18IV\n",
      "2022_8_19IV\n",
      "2022_8_20IV\n",
      "2022_8_21IV\n",
      "2022_8_22IV\n",
      "2022_8_23IV\n",
      "2022_8_24IV\n",
      "2022_8_25IV\n",
      "2022_8_26IV\n",
      "2022_8_27IV\n",
      "2022_8_28IV\n",
      "2022_8_29IV\n",
      "2022_8_30IV\n",
      "2022_8_31IV\n",
      "2022_9_1IV\n",
      "2022_9_2IV\n",
      "2022_9_3IV\n",
      "2022_9_4IV\n",
      "2022_9_5IV\n",
      "2022_9_6IV\n",
      "2022_9_7IV\n",
      "2022_9_8IV\n",
      "2022_9_9IV\n",
      "2022_9_10IV\n",
      "2022_9_11IV\n",
      "2022_9_12IV\n",
      "2022_9_13IV\n",
      "2022_9_14IV\n",
      "2022_9_15IV\n",
      "2022_9_16IV\n",
      "2022_9_17IV\n",
      "2022_9_18IV\n",
      "2022_9_19IV\n",
      "2022_9_20IV\n",
      "2022_9_21IV\n",
      "2022_9_22IV\n",
      "2022_9_23IV\n",
      "2022_9_24IV\n",
      "2022_9_25IV\n",
      "2022_9_26IV\n",
      "2022_9_27IV\n",
      "2022_9_28IV\n",
      "2022_9_29IV\n",
      "2022_9_30IV\n",
      "2022_10_1IV\n",
      "2022_10_2IV\n",
      "2022_10_3IV\n",
      "2022_10_4IV\n",
      "2022_10_5IV\n",
      "2022_10_6IV\n",
      "2022_10_7IV\n",
      "2022_10_8IV\n",
      "2022_10_9IV\n",
      "2022_10_10IV\n",
      "2022_10_11IV\n",
      "2022_10_12IV\n",
      "2022_10_13IV\n",
      "2022_10_14IV\n",
      "2022_10_15IV\n",
      "2022_10_16IV\n",
      "2022_10_17IV\n",
      "2022_10_18IV\n",
      "2022_10_19IV\n",
      "2022_10_20IV\n",
      "2022_10_21IV\n",
      "2022_10_22IV\n",
      "2022_10_23IV\n",
      "2022_10_24IV\n",
      "2022_10_25IV\n",
      "2022_10_26IV\n",
      "2022_10_27IV\n",
      "2022_10_28IV\n",
      "2022_10_29IV\n",
      "2022_10_30IV\n",
      "2022_10_31IV\n",
      "2022_11_1IV\n",
      "2022_11_2IV\n",
      "2022_11_3IV\n",
      "2022_11_4IV\n",
      "2022_11_5IV\n",
      "2022_11_6IV\n",
      "2022_11_7IV\n",
      "2022_11_8IV\n",
      "2022_11_9IV\n",
      "2022_11_10IV\n",
      "2022_11_11IV\n",
      "2022_11_12IV\n",
      "2022_11_13IV\n",
      "2022_11_14IV\n",
      "2022_11_15IV\n",
      "2022_11_16IV\n",
      "2022_11_17IV\n",
      "2022_11_18IV\n",
      "2022_11_19IV\n",
      "2022_11_20IV\n",
      "2022_11_21IV\n",
      "2022_11_22IV\n",
      "2022_11_23IV\n",
      "2022_11_24IV\n",
      "2022_11_25IV\n",
      "2022_11_26IV\n",
      "2022_11_27IV\n",
      "2022_11_28IV\n",
      "2022_11_29IV\n",
      "2022_11_30IV\n",
      "2022_12_1IV\n",
      "2022_12_2IV\n",
      "2022_12_3IV\n",
      "2022_12_4IV\n",
      "2022_12_5IV\n",
      "2022_12_6IV\n",
      "2022_12_7IV\n",
      "2022_12_8IV\n",
      "2022_12_9IV\n",
      "2022_12_10IV\n",
      "2022_12_11IV\n",
      "2022_12_12IV\n",
      "2022_12_13IV\n",
      "2022_12_14IV\n",
      "2022_12_15IV\n",
      "2022_12_16IV\n",
      "2022_12_17IV\n",
      "2022_12_18IV\n",
      "2022_12_19IV\n",
      "2022_12_20IV\n",
      "2022_12_21IV\n",
      "2022_12_22IV\n",
      "2022_12_23IV\n",
      "2022_12_24IV\n",
      "2022_12_25IV\n",
      "2022_12_26IV\n",
      "2022_12_27IV\n",
      "2022_12_28IV\n",
      "2022_12_29IV\n",
      "2022_12_30IV\n",
      "2022_12_31IV\n"
     ]
    }
   ],
   "source": [
    "# define the path where access file is stored\n",
    "# path = r'C:\\Users\\sijin wang\\OneDrive - UNSW\\RA\\Roof_module_data'\n",
    "\n",
    "\n",
    "# create a list of paths of each access file we need to open\n",
    "paths = []\n",
    "# Loop through all the files in the folder and add their paths to the list\n",
    "for file_name in os.listdir(path):\n",
    "    if os.path.isfile(os.path.join(path, file_name)):\n",
    "        paths.append(str((os.path.join(path, file_name))))\n",
    "\n",
    "# Print the list of file paths\n",
    "# paths = [r'G:\\09-01-2022_10-04-2022.accdb']\n",
    "\n",
    "# define the object\n",
    "data1 = module_data_processor(path = paths, starting_day=starting_day, ending_day=ending_day, starting_time=starting_time, ending_time=ending_time)\n",
    "\n",
    "# create a list of list for all dates to select paths.\n",
    "data1.file_date_reader()\n",
    "\n",
    "# zero removing: this part remove the zero data, but not the empty ones.\n",
    "data1.data_extractor(removezero=True)"
   ]
  },
  {
   "attachments": {},
   "cell_type": "markdown",
   "id": "c5d6aca6",
   "metadata": {},
   "source": [
    "## 4. Visualization"
   ]
  },
  {
   "attachments": {},
   "cell_type": "markdown",
   "id": "2fbe3993",
   "metadata": {},
   "source": [
    "### 4.1. The module comparison"
   ]
  },
  {
   "attachments": {},
   "cell_type": "markdown",
   "id": "cd947e0b",
   "metadata": {},
   "source": [
    "#### 4.1.0. Select the module"
   ]
  },
  {
   "cell_type": "code",
   "execution_count": 4,
   "id": "4c436489",
   "metadata": {},
   "outputs": [],
   "source": [
    "module_number_list = [1, 6]"
   ]
  },
  {
   "attachments": {},
   "cell_type": "markdown",
   "id": "4fb3692f",
   "metadata": {},
   "source": [
    "What the following cell does:\n",
    "* Select the data based on which module to plot.\n",
    "* Resample the data based on the defined sample length, and select the top xx percentile.\n",
    "* select the data to restrict the temperature and irradiance range, temperature only include T_central $\\pm$ dT and irradiance only include Ir_central $\\pm$ dIr."
   ]
  },
  {
   "cell_type": "code",
   "execution_count": 5,
   "id": "6a72141f",
   "metadata": {},
   "outputs": [
    {
     "name": "stderr",
     "output_type": "stream",
     "text": [
      "c:\\Users\\sijin wang\\AppData\\Local\\Programs\\Python\\Python38\\lib\\site-packages\\pandas\\core\\apply.py:577: FutureWarning: Dropping invalid columns in DataFrameGroupBy.quantile is deprecated. In a future version, a TypeError will be raised. Before calling .quantile, select only columns which should be valid for the function.\n",
      "  return f(*args, **kwargs)\n"
     ]
    }
   ],
   "source": [
    "# select the module to plot: range from 1 to 6\n",
    "data1.module_selector(module_num_list=module_number_list)\n",
    "\n",
    "# resample the module: options are 'hour', 'day', 'month', put anything else it will not resample.\n",
    "data1.multi_module_resampler(sample_length=sample_length, quantile_v=percentile/100)\n",
    "\n",
    "# Select Temperature and Irradiance range\n",
    "data1.bin_selector(param_name='MT', centre_value=T_central, rangevalue=dT)\n",
    "data1.bin_selector(param_name='IR_BEV', centre_value=Ir_central, rangevalue=dIr)"
   ]
  },
  {
   "attachments": {},
   "cell_type": "markdown",
   "id": "8a62ce0f",
   "metadata": {},
   "source": [
    "Please select the parameters to plot against."
   ]
  },
  {
   "attachments": {},
   "cell_type": "markdown",
   "id": "5b2ad409",
   "metadata": {},
   "source": [
    "The available option for parameters are: 'Absolute humidity %', 'Ambient temperature (C)', 'Modulte temperature (C)', 'Irradiance (W/m2)', 'Voc(V)', 'Isc(A)', 'Maximum power voltage (V)', 'Maximum power current (A)', 'Maximum power (W)', 'Fill factor (%)', 'Efficiency (%)'."
   ]
  },
  {
   "attachments": {},
   "cell_type": "markdown",
   "id": "a0ab65bf",
   "metadata": {},
   "source": [
    "#### 4.1.1. Plotting"
   ]
  },
  {
   "cell_type": "code",
   "execution_count": 14,
   "id": "f2ec03b2",
   "metadata": {},
   "outputs": [
    {
     "data": {
      "image/png": "[encoded data removed]",
      "text/plain": [
       "<Figure size 432x288 with 1 Axes>"
      ]
     },
     "metadata": {
      "needs_background": "light"
     },
     "output_type": "display_data"
    }
   ],
   "source": [
    "available_list = ['Absolute humidity %', 'Ambient temperature (C)', 'Modulte temperature (C)', 'Irradiance (W/m2)', 'Voc(V)', 'Isc(A)', 'Maximum power voltage (V)', 'Maximum power current (A)', 'Maximum power (W)', 'Fill factor (%)', 'Efficiency (%)']\n",
    "# y_name = input('Please select a parameter to compare on: ')\n",
    "y_name = 'Efficiency (%)'\n",
    "if y_name in available_list:\n",
    "    data1.data_ploter_with_time_multimodule(target_name=data1.param_name_dict[str(y_name)])\n",
    "else:\n",
    "    print('Please select a parameter name from the available list')"
   ]
  },
  {
   "attachments": {},
   "cell_type": "markdown",
   "id": "9d5e6573",
   "metadata": {},
   "source": [
    "### 4.2. Plot parameter vs parameter for one module"
   ]
  },
  {
   "attachments": {},
   "cell_type": "markdown",
   "id": "579b8335",
   "metadata": {},
   "source": [
    "#### 4.2.0. Select the module (select one module only)"
   ]
  },
  {
   "cell_type": "code",
   "execution_count": 7,
   "id": "d83956e0",
   "metadata": {},
   "outputs": [],
   "source": [
    "module_number_list = [1]"
   ]
  },
  {
   "attachments": {},
   "cell_type": "markdown",
   "id": "a24611a3",
   "metadata": {},
   "source": [
    "What the following cell does:\n",
    "* Select the data based on which module to plot.\n",
    "* Resample the data based on the defined sample length, and select the top xx percentile.\n",
    "* select the data to restrict the temperature and irradiance range, temperature only include T_central $\\pm$ dT and irradiance only include Ir_central $\\pm$ dIr."
   ]
  },
  {
   "cell_type": "code",
   "execution_count": 8,
   "id": "c9a9c53f",
   "metadata": {},
   "outputs": [
    {
     "name": "stderr",
     "output_type": "stream",
     "text": [
      "c:\\Users\\sijin wang\\AppData\\Local\\Programs\\Python\\Python38\\lib\\site-packages\\pandas\\core\\apply.py:577: FutureWarning: Dropping invalid columns in DataFrameGroupBy.quantile is deprecated. In a future version, a TypeError will be raised. Before calling .quantile, select only columns which should be valid for the function.\n",
      "  return f(*args, **kwargs)\n"
     ]
    }
   ],
   "source": [
    "# select the module to plot: range from 1 to 6\n",
    "data1.module_selector(module_num_list=module_number_list)\n",
    "\n",
    "# resample the module: options are 'hour', 'day', 'month', put anything else it will not resample.\n",
    "data1.multi_module_resampler(sample_length=sample_length, quantile_v=percentile/100)\n",
    "\n",
    "# Select Temperature and Irradiance range\n",
    "data1.bin_selector(param_name='MT', centre_value=T_central, rangevalue=dT)\n",
    "data1.bin_selector(param_name='IR_BEV', centre_value=Ir_central, rangevalue=dIr)"
   ]
  },
  {
   "attachments": {},
   "cell_type": "markdown",
   "id": "186e0a8d",
   "metadata": {},
   "source": [
    "### 4.2.1. Plotting against each other"
   ]
  },
  {
   "attachments": {},
   "cell_type": "markdown",
   "id": "398e8c81",
   "metadata": {},
   "source": [
    "Please select the parameters to plot against."
   ]
  },
  {
   "attachments": {},
   "cell_type": "markdown",
   "id": "6399dba8",
   "metadata": {},
   "source": [
    "The available option for parameters are: 'Absolute humidity %', 'Ambient temperature (C)', 'Modulte temperature (C)', 'Irradiance (W/m2)', 'Voc(V)', 'Isc(A)', 'Maximum power voltage (V)', 'Maximum power current (A)', 'Maximum power (W)', 'Fill factor (%)', 'Efficiency (%)'."
   ]
  },
  {
   "cell_type": "code",
   "execution_count": 15,
   "id": "6afd4163",
   "metadata": {},
   "outputs": [
    {
     "data": {
      "image/png": "[encoded data removed]",
      "text/plain": [
       "<Figure size 432x288 with 1 Axes>"
      ]
     },
     "metadata": {
      "needs_background": "light"
     },
     "output_type": "display_data"
    }
   ],
   "source": [
    "# x_name = input('Which parameter to put in x axis (choose from the available options)')\n",
    "# y_name = input('Which parameter to put in y axis (choose from the available options)')\n",
    "x_name = 'Ambient temperature (C)'\n",
    "y_name = 'Efficiency (%)'\n",
    "# print(x_name)\n",
    "if x_name in available_list and y_name in available_list:\n",
    "    whether_color_code = input('Do you want a color code 3rd dimension? (YES or NO)')\n",
    "    if whether_color_code == 'NO':\n",
    "        data1.data_parameter_plot_multimodule(x_name=data1.param_name_dict[str(x_name)], y_name=data1.param_name_dict[str(y_name)], linear_fit=True, color_code=False)\n",
    "    else:\n",
    "        color_code_name = input('Which parameter to color code (choose from the available options)')\n",
    "        if color_code_name in available_list:\n",
    "            data1.data_parameter_plot_multimodule(x_name=data1.param_name_dict[str(x_name)], y_name=data1.param_name_dict[str(y_name)], linear_fit=True, color_code=True, color_name=data1.param_name_dict[str(color_code_name)])\n",
    "        else:\n",
    "            print('Please select the color code parameter name from the available list')\n",
    "else:\n",
    "    print('Please choose both x and y names from the availabe list')"
   ]
  },
  {
   "attachments": {},
   "cell_type": "markdown",
   "id": "30499390",
   "metadata": {},
   "source": [
    "### 4.3. Plotting degredation"
   ]
  },
  {
   "attachments": {},
   "cell_type": "markdown",
   "id": "d889ae2a",
   "metadata": {},
   "source": [
    "#### 4.3.0. Select the module (select one module only)"
   ]
  },
  {
   "cell_type": "code",
   "execution_count": 10,
   "id": "6b1f37bd",
   "metadata": {},
   "outputs": [],
   "source": [
    "module_number_list = [1]"
   ]
  },
  {
   "attachments": {},
   "cell_type": "markdown",
   "id": "ab22621d",
   "metadata": {},
   "source": [
    "What the following cell does:\n",
    "* Select the data based on which module to plot.\n",
    "* Resample the data based on the defined sample length, and select the top xx percentile.\n",
    "* select the data to restrict the temperature and irradiance range, temperature only include T_central $\\pm$ dT and irradiance only include Ir_central $\\pm$ dIr."
   ]
  },
  {
   "cell_type": "code",
   "execution_count": 11,
   "id": "ad663505",
   "metadata": {},
   "outputs": [],
   "source": [
    "# select the module to plot: range from 1 to 6\n",
    "data1.module_selector(module_num_list=module_number_list)\n",
    "\n",
    "# resample the module: options are 'hour', 'day', 'month', put anything else it will not resample.\n",
    "data1.multi_module_resampler(sample_length=sample_length, quantile_v=percentile/100)\n",
    "\n",
    "# Select Temperature and Irradiance range\n",
    "data1.bin_selector(param_name='MT', centre_value=T_central, rangevalue=dT)\n",
    "data1.bin_selector(param_name='IR_BEV', centre_value=Ir_central, rangevalue=dIr)"
   ]
  },
  {
   "attachments": {},
   "cell_type": "markdown",
   "id": "dd4db8e5",
   "metadata": {},
   "source": [
    "#### 4.3.1. Plotting"
   ]
  },
  {
   "attachments": {},
   "cell_type": "markdown",
   "id": "423b7bf1",
   "metadata": {},
   "source": [
    "Please select the parameter to view degredation."
   ]
  },
  {
   "attachments": {},
   "cell_type": "markdown",
   "id": "9a09be8e",
   "metadata": {},
   "source": [
    "The available option for parameters are: 'Absolute humidity %', 'Ambient temperature (C)', 'Modulte temperature (C)', 'Irradiance (W/m2)', 'Voc(V)', 'Isc(A)', 'Maximum power voltage (V)', 'Maximum power current (A)', 'Maximum power (W)', 'Fill factor (%)', 'Efficiency (%)'."
   ]
  },
  {
   "cell_type": "code",
   "execution_count": 16,
   "id": "87004cab",
   "metadata": {},
   "outputs": [
    {
     "data": {
      "image/png": "[encoded data removed]",
      "text/plain": [
       "<Figure size 432x288 with 1 Axes>"
      ]
     },
     "metadata": {
      "needs_background": "light"
     },
     "output_type": "display_data"
    }
   ],
   "source": [
    "# param_name = input('Which parameter to put in y axis (choose from the available options)')\n",
    "param_name = 'Efficiency (%)'\n",
    "# print(x_name)\n",
    "if param_name in available_list:\n",
    "    whether_color_code = input('Do you want a color code 3rd dimension? (YES or NO)')\n",
    "    if whether_color_code == 'NO':\n",
    "        data1.data_ploter_with_time_multimodule(target_name=data1.param_name_dict[str(x_name)])\n",
    "    else:\n",
    "        color_code_name = input('Which parameter to color code (choose from the available options)')\n",
    "        if color_code_name in available_list:\n",
    "            data1.data_ploter_with_time_multimodule(target_name=data1.param_name_dict[str(x_name)], linear_fit=True, color_code=True, color_name=data1.param_name_dict[str(color_code_name)])\n",
    "        else:\n",
    "            print('Please select the color code parameter name from the available list')\n",
    "else:\n",
    "    print('Please choose the parameter names from the availabe list')"
   ]
  }
 ],
 "metadata": {
  "kernelspec": {
   "display_name": "Python 3",
   "language": "python",
   "name": "python3"
  },
  "language_info": {
   "codemirror_mode": {
    "name": "ipython",
    "version": 3
   },
   "file_extension": ".py",
   "mimetype": "text/x-python",
   "name": "python",
   "nbconvert_exporter": "python",
   "pygments_lexer": "ipython3",
   "version": "3.8.10"
  },
  "vscode": {
   "interpreter": {
    "hash": "d334cf903bbc67ff1a471b83213383e8071bf57c25eaa7145c5ba6cf13fc69dc"
   }
  }
 },
 "nbformat": 4,
 "nbformat_minor": 5
}
