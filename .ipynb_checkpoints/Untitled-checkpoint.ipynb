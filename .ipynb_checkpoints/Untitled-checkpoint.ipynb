{
 "cells": [
  {
   "cell_type": "markdown",
   "id": "e81aca90",
   "metadata": {},
   "source": [
    "# Roof top module data processor"
   ]
  },
  {
   "cell_type": "markdown",
   "id": "e330dc83",
   "metadata": {},
   "source": [
    "## Import the packages"
   ]
  },
  {
   "cell_type": "code",
   "execution_count": 1,
   "id": "811c67f6",
   "metadata": {},
   "outputs": [],
   "source": [
    "import pyodbc\n",
    "from sqlalchemy import create_engine\n",
    "import csv\n",
    "from data_processor_object import *\n",
    "import matplotlib.pyplot as plt\n",
    "import os\n",
    "import glob"
   ]
  },
  {
   "cell_type": "markdown",
   "id": "3918bc2f",
   "metadata": {},
   "source": [
    "## The input cells"
   ]
  },
  {
   "cell_type": "markdown",
   "id": "a4e7e7ab",
   "metadata": {},
   "source": [
    "### Define the plotting data"
   ]
  },
  {
   "cell_type": "markdown",
   "id": "5ceb35d3",
   "metadata": {},
   "source": [
    "* The \"path\" varaible a path of the folder where the \"access\" file for module IV data are stored.\n",
    "* The \"starting_day\" is a string representing the first day to start plotting\n",
    "* The \"ending_day\" is a string representing the last day to plot.\n",
    "* The \"starting_time\" is a string representing the time in the first day to start plotting.\n",
    "* The \"ending_time\" is a string representing the time in the last day to plot."
   ]
  },
  {
   "cell_type": "code",
   "execution_count": 2,
   "id": "b205edae",
   "metadata": {},
   "outputs": [],
   "source": [
    "path = r'C:\\Users\\sijin wang\\Desktop\\research\\RA\\Module_data_project\\data'\n",
    "\n",
    "starting_day = '2022_1_2'\n",
    "ending_day = '2022_12_31'\n",
    "starting_time = '8:00:00 AM'\n",
    "ending_time = '9:00:00 PM'\n",
    "\n",
    "# starting_day = input('Enter a starting date (YYYY-MM-DD) (if month or day only have one digit, put one digit only, eg. 2022_1_2): ')\n",
    "# ending_day = input('Enter an ending date (YYYY-MM-DD) (if month or day only have one digit, put one digit only, eg. 2022_12_31): ')\n",
    "# starting_time = input('Enter a starting time (Eg. 8:00:00 AM): ')\n",
    "# ending_time = input('Enter an ending time (Eg. 9:00:32 PM): ')\n",
    "# print('The time to start plotting is: ' + str(starting_day) + ' ' + starting_time)\n",
    "# print('The time to end plotting is: ' + str(ending_day) + ' ' + ending_time)"
   ]
  },
  {
   "cell_type": "code",
   "execution_count": null,
   "id": "116bdf99",
   "metadata": {},
   "outputs": [],
   "source": [
    "paths = []\n",
    "# open each folder in the given director\n",
    "\n",
    "for root, dirs, files in os.walk(path):\n",
    "    for filename in glob.glob(os.path.join(root, '*.accdb')):\n",
    "        paths.append(filename)\n",
    "# print(paths)"
   ]
  },
  {
   "cell_type": "markdown",
   "id": "30143e4d",
   "metadata": {},
   "source": [
    "### Select the modules"
   ]
  },
  {
   "cell_type": "markdown",
   "id": "2f796703",
   "metadata": {},
   "source": [
    "* The \"module_number_list\" is a list of module we want to investigates, there are 6 modules and the correponding numbers are from 1 to 6."
   ]
  },
  {
   "cell_type": "code",
   "execution_count": 6,
   "id": "83007582",
   "metadata": {},
   "outputs": [],
   "source": [
    "module_number_list = [6]"
   ]
  },
  {
   "cell_type": "markdown",
   "id": "7a24ed64",
   "metadata": {},
   "source": [
    "### Define the resampling parameters"
   ]
  },
  {
   "cell_type": "markdown",
   "id": "b9bc9826",
   "metadata": {},
   "source": [
    "* \"sample_length\" is a string representing the period we want to sample, the options are: 'hour', 'day', 'month'.\n",
    "* \"percentile\" is a number ranging from 0 to 100, selecting the top xx percent of electrical data."
   ]
  },
  {
   "cell_type": "code",
   "execution_count": null,
   "id": "4e94b5e3",
   "metadata": {},
   "outputs": [],
   "source": [
    "sample_length = 'second'\n",
    "percentile = 90"
   ]
  },
  {
   "cell_type": "markdown",
   "id": "d4c1181c",
   "metadata": {},
   "source": [
    "### Define the data selection parameters"
   ]
  },
  {
   "cell_type": "markdown",
   "id": "8ec54c7c",
   "metadata": {},
   "source": [
    "* \"T_central\"is a float representing the centre value of the temperature.\n",
    "* The selected data should be within the range of T_central $\\pm$ dT.\n",
    "* The unit is C.\n",
    "* \"Ir_central\" is a float representing the centre value of the temperature.\n",
    "* The selected data should be within the range of Ir_central $\\pm$ dIr.\n",
    "* The unit is W/m2."
   ]
  },
  {
   "cell_type": "code",
   "execution_count": null,
   "id": "5b8ae5cb",
   "metadata": {},
   "outputs": [],
   "source": [
    "# for temperatures:\n",
    "T_central=45\n",
    "dT = 100\n",
    "\n",
    "# for irradiance:\n",
    "Ir_central = 800\n",
    "dIr = 5"
   ]
  }
 ],
 "metadata": {
  "kernelspec": {
   "display_name": "Python 3 (ipykernel)",
   "language": "python",
   "name": "python3"
  },
  "language_info": {
   "codemirror_mode": {
    "name": "ipython",
    "version": 3
   },
   "file_extension": ".py",
   "mimetype": "text/x-python",
   "name": "python",
   "nbconvert_exporter": "python",
   "pygments_lexer": "ipython3",
   "version": "3.9.7"
  }
 },
 "nbformat": 4,
 "nbformat_minor": 5
}
